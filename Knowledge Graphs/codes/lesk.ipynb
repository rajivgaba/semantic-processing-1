{
  "cells": [
    {
      "cell_type": "markdown",
      "id": "shaped-norway",
      "metadata": {
        "id": "shaped-norway"
      },
      "source": [
        "## Word-Sense Disambiguation"
      ]
    },
    {
      "cell_type": "code",
      "execution_count": 2,
      "id": "genetic-terror",
      "metadata": {
        "id": "genetic-terror"
      },
      "outputs": [],
      "source": [
        "from nltk.corpus import wordnet as wn\n",
        "from nltk import wsd"
      ]
    },
    {
      "cell_type": "code",
      "source": [
        "import nltk\n",
        "nltk.download('wordnet')"
      ],
      "metadata": {
        "id": "xWUjsBdK51tS",
        "outputId": "e4e67fd2-02ac-4b2a-ef75-03f2a56d7952",
        "colab": {
          "base_uri": "https://localhost:8080/"
        }
      },
      "id": "xWUjsBdK51tS",
      "execution_count": 3,
      "outputs": [
        {
          "output_type": "stream",
          "name": "stderr",
          "text": [
            "[nltk_data] Downloading package wordnet to /root/nltk_data...\n"
          ]
        },
        {
          "output_type": "execute_result",
          "data": {
            "text/plain": [
              "True"
            ]
          },
          "metadata": {},
          "execution_count": 3
        }
      ]
    },
    {
      "cell_type": "code",
      "execution_count": 4,
      "id": "adult-bangladesh",
      "metadata": {
        "id": "adult-bangladesh"
      },
      "outputs": [],
      "source": [
        "X = 'The die is cast.'\n",
        "Y = 'Roll the die to get a 6.'\n",
        "Z = 'What is dead may never die.'"
      ]
    },
    {
      "cell_type": "code",
      "execution_count": 5,
      "id": "antique-burlington",
      "metadata": {
        "id": "antique-burlington",
        "outputId": "ca153ec1-14ae-463f-ca9a-a351af95e6f2",
        "colab": {
          "base_uri": "https://localhost:8080/"
        }
      },
      "outputs": [
        {
          "output_type": "execute_result",
          "data": {
            "text/plain": [
              "[Synset('die.n.01'),\n",
              " Synset('die.n.02'),\n",
              " Synset('die.n.03'),\n",
              " Synset('die.v.01'),\n",
              " Synset('die.v.02'),\n",
              " Synset('die.v.03'),\n",
              " Synset('fail.v.04'),\n",
              " Synset('die.v.05'),\n",
              " Synset('die.v.06'),\n",
              " Synset('die.v.07'),\n",
              " Synset('die.v.08'),\n",
              " Synset('die.v.09'),\n",
              " Synset('die.v.10'),\n",
              " Synset('die.v.11')]"
            ]
          },
          "metadata": {},
          "execution_count": 5
        }
      ],
      "source": [
        "wn.synsets('die')"
      ]
    },
    {
      "cell_type": "code",
      "execution_count": 6,
      "id": "governing-montana",
      "metadata": {
        "id": "governing-montana",
        "outputId": "cc8d4136-d43d-4b2f-d4a9-d9c778dcbcf9",
        "colab": {
          "base_uri": "https://localhost:8080/"
        }
      },
      "outputs": [
        {
          "output_type": "execute_result",
          "data": {
            "text/plain": [
              "[Synset('die.n.01'), Synset('die.n.02'), Synset('die.n.03')]"
            ]
          },
          "metadata": {},
          "execution_count": 6
        }
      ],
      "source": [
        "wn.synsets('die', pos=wn.NOUN)"
      ]
    },
    {
      "cell_type": "code",
      "execution_count": 9,
      "id": "located-bookmark",
      "metadata": {
        "id": "located-bookmark",
        "outputId": "5d07b991-9c3e-46a4-d936-bf34d4ae5fe7",
        "colab": {
          "base_uri": "https://localhost:8080/"
        }
      },
      "outputs": [
        {
          "output_type": "stream",
          "name": "stdout",
          "text": [
            "a small cube with 1 to 6 spots on the six faces; used in gambling to generate random numbers\n",
            "\n",
            "a device used for shaping metal\n",
            "\n",
            "a cutting tool that is fitted into a diestock and used for cutting male (external) screw threads on screws or bolts or pipes or rods\n",
            "\n"
          ]
        }
      ],
      "source": [
        "for syn in wn.synsets('die', pos=wn.NOUN):\n",
        "    print(syn.definition() + \"\\n\")"
      ]
    },
    {
      "cell_type": "code",
      "execution_count": 10,
      "id": "after-party",
      "metadata": {
        "id": "after-party",
        "outputId": "56b92cc9-a4a1-4962-8e9b-4c34c8423924",
        "colab": {
          "base_uri": "https://localhost:8080/"
        }
      },
      "outputs": [
        {
          "output_type": "stream",
          "name": "stdout",
          "text": [
            "pass from physical life and lose all bodily attributes and functions necessary to sustain life\n",
            "\n",
            "suffer or face the pain of death\n",
            "\n",
            "be brought to or as if to the point of death by an intense emotion such as embarrassment, amusement, or shame\n",
            "\n",
            "stop operating or functioning\n",
            "\n",
            "feel indifferent towards\n",
            "\n",
            "languish as with love or desire\n",
            "\n",
            "cut or shape with a die\n",
            "\n",
            "to be on base at the end of an inning, of a player\n",
            "\n",
            "lose sparkle or bouquet\n",
            "\n",
            "disappear or come to an end\n",
            "\n",
            "suffer spiritual death; be damned (in the religious sense)\n",
            "\n"
          ]
        }
      ],
      "source": [
        "for syn in wn.synsets('die', pos=wn.VERB):\n",
        "    print(syn.definition() + \"\\n\")"
      ]
    },
    {
      "cell_type": "markdown",
      "id": "bacterial-effect",
      "metadata": {
        "id": "bacterial-effect"
      },
      "source": [
        "## Word-Sense Disambiguation with Lesk Algorithm"
      ]
    },
    {
      "cell_type": "code",
      "execution_count": 14,
      "id": "threaded-tourism",
      "metadata": {
        "id": "threaded-tourism",
        "outputId": "3d6041a1-6f04-4fe0-83de-60e393df1bd0",
        "colab": {
          "base_uri": "https://localhost:8080/"
        }
      },
      "outputs": [
        {
          "output_type": "stream",
          "name": "stdout",
          "text": [
            "The die is cast.\n"
          ]
        },
        {
          "output_type": "execute_result",
          "data": {
            "text/plain": [
              "Synset('die.v.07')"
            ]
          },
          "metadata": {},
          "execution_count": 14
        }
      ],
      "source": [
        "print(X)\n",
        "wsd.lesk(X.split(), 'die')"
      ]
    },
    {
      "cell_type": "code",
      "execution_count": 15,
      "id": "fluid-cargo",
      "metadata": {
        "id": "fluid-cargo",
        "outputId": "88cb1cd6-6ad7-4e2c-b1d7-c3a0946377a6",
        "colab": {
          "base_uri": "https://localhost:8080/",
          "height": 35
        }
      },
      "outputs": [
        {
          "output_type": "execute_result",
          "data": {
            "text/plain": [
              "'cut or shape with a die'"
            ],
            "application/vnd.google.colaboratory.intrinsic+json": {
              "type": "string"
            }
          },
          "metadata": {},
          "execution_count": 15
        }
      ],
      "source": [
        "_.definition()"
      ]
    },
    {
      "cell_type": "code",
      "execution_count": 16,
      "id": "independent-melissa",
      "metadata": {
        "id": "independent-melissa",
        "outputId": "6ae43c69-f18f-46a9-f703-445176f903b4",
        "colab": {
          "base_uri": "https://localhost:8080/",
          "height": 53
        }
      },
      "outputs": [
        {
          "output_type": "execute_result",
          "data": {
            "text/plain": [
              "'a cutting tool that is fitted into a diestock and used for cutting male (external) screw threads on screws or bolts or pipes or rods'"
            ],
            "application/vnd.google.colaboratory.intrinsic+json": {
              "type": "string"
            }
          },
          "metadata": {},
          "execution_count": 16
        }
      ],
      "source": [
        "wsd.lesk(X.split(), 'die', pos=wn.NOUN).definition()"
      ]
    },
    {
      "cell_type": "code",
      "execution_count": 17,
      "id": "progressive-origin",
      "metadata": {
        "id": "progressive-origin",
        "outputId": "70a0e376-d8f0-44dd-d1a1-23fcae5bcab1",
        "colab": {
          "base_uri": "https://localhost:8080/",
          "height": 53
        }
      },
      "outputs": [
        {
          "output_type": "stream",
          "name": "stdout",
          "text": [
            "Roll the die to get a 6.\n"
          ]
        },
        {
          "output_type": "execute_result",
          "data": {
            "text/plain": [
              "'to be on base at the end of an inning, of a player'"
            ],
            "application/vnd.google.colaboratory.intrinsic+json": {
              "type": "string"
            }
          },
          "metadata": {},
          "execution_count": 17
        }
      ],
      "source": [
        "print(Y)\n",
        "wsd.lesk(Y.split(), 'die').definition()"
      ]
    },
    {
      "cell_type": "code",
      "execution_count": 18,
      "id": "proof-while",
      "metadata": {
        "id": "proof-while",
        "outputId": "dba5303d-5f18-489a-eb77-6795adafcc9c",
        "colab": {
          "base_uri": "https://localhost:8080/",
          "height": 35
        }
      },
      "outputs": [
        {
          "output_type": "execute_result",
          "data": {
            "text/plain": [
              "'a small cube with 1 to 6 spots on the six faces; used in gambling to generate random numbers'"
            ],
            "application/vnd.google.colaboratory.intrinsic+json": {
              "type": "string"
            }
          },
          "metadata": {},
          "execution_count": 18
        }
      ],
      "source": [
        "wsd.lesk(Y.split(), 'die', pos=wn.NOUN).definition()"
      ]
    },
    {
      "cell_type": "code",
      "execution_count": 19,
      "id": "middle-object",
      "metadata": {
        "id": "middle-object",
        "outputId": "601ae0ca-e8c1-42c2-9753-c743949eb004",
        "colab": {
          "base_uri": "https://localhost:8080/",
          "height": 70
        }
      },
      "outputs": [
        {
          "output_type": "stream",
          "name": "stdout",
          "text": [
            "What is dead may never die.\n"
          ]
        },
        {
          "output_type": "execute_result",
          "data": {
            "text/plain": [
              "'a cutting tool that is fitted into a diestock and used for cutting male (external) screw threads on screws or bolts or pipes or rods'"
            ],
            "application/vnd.google.colaboratory.intrinsic+json": {
              "type": "string"
            }
          },
          "metadata": {},
          "execution_count": 19
        }
      ],
      "source": [
        "print(Z)\n",
        "wsd.lesk(Z.split(), 'die').definition()"
      ]
    },
    {
      "cell_type": "code",
      "execution_count": 20,
      "id": "organizational-joint",
      "metadata": {
        "id": "organizational-joint",
        "outputId": "0af21155-0557-4f03-d87c-909decc80070",
        "colab": {
          "base_uri": "https://localhost:8080/",
          "height": 35
        }
      },
      "outputs": [
        {
          "output_type": "execute_result",
          "data": {
            "text/plain": [
              "'stop operating or functioning'"
            ],
            "application/vnd.google.colaboratory.intrinsic+json": {
              "type": "string"
            }
          },
          "metadata": {},
          "execution_count": 20
        }
      ],
      "source": [
        "wsd.lesk(Z.split(), 'die', pos=wn.VERB).definition()"
      ]
    },
    {
      "cell_type": "markdown",
      "id": "valuable-harbor",
      "metadata": {
        "id": "valuable-harbor"
      },
      "source": [
        "## Automatic POS Tagging + Lesk with spaCy"
      ]
    },
    {
      "cell_type": "code",
      "execution_count": null,
      "id": "defensive-trailer",
      "metadata": {
        "id": "defensive-trailer"
      },
      "outputs": [],
      "source": [
        "!pip install spacy"
      ]
    },
    {
      "cell_type": "code",
      "execution_count": 21,
      "id": "cellular-reflection",
      "metadata": {
        "id": "cellular-reflection"
      },
      "outputs": [],
      "source": [
        "from spacy.cli import download\n",
        "from spacy import load\n",
        "# download('en_core_web_sm')\n",
        "nlp = load('en_core_web_sm')"
      ]
    },
    {
      "cell_type": "code",
      "execution_count": 22,
      "id": "radical-melbourne",
      "metadata": {
        "id": "radical-melbourne"
      },
      "outputs": [],
      "source": [
        "import warnings\n",
        "\n",
        "POS_MAP = {\n",
        "    'VERB': wn.VERB,\n",
        "    'NOUN': wn.NOUN,\n",
        "    'PROPN': wn.NOUN\n",
        "}\n",
        "\n",
        "\n",
        "def lesk(doc, word):\n",
        "    found = False\n",
        "    for token in doc:\n",
        "        if token.text == word:\n",
        "            word = token\n",
        "            found = True\n",
        "            break\n",
        "    if not found:\n",
        "        raise ValueError(f'Word \\\"{word}\\\" does not appear in the document: {doc.text}.')\n",
        "    pos = POS_MAP.get(word.pos_, False)\n",
        "    if not pos:\n",
        "        warnings.warn(f'POS tag for {word.text} not found in wordnet. Falling back to default Lesk behaviour.')\n",
        "    args = [c.text for c in doc], word.text\n",
        "    kwargs = dict(pos=pos)\n",
        "    return wsd.lesk(*args, **kwargs)"
      ]
    },
    {
      "cell_type": "code",
      "execution_count": 23,
      "id": "monetary-disaster",
      "metadata": {
        "id": "monetary-disaster"
      },
      "outputs": [],
      "source": [
        "doc = nlp('Roll the die to get a 6.')"
      ]
    },
    {
      "cell_type": "code",
      "execution_count": null,
      "id": "surgical-chrome",
      "metadata": {
        "id": "surgical-chrome"
      },
      "outputs": [],
      "source": [
        "lesk(doc, 'die')"
      ]
    },
    {
      "cell_type": "code",
      "execution_count": 24,
      "id": "cordless-bankruptcy",
      "metadata": {
        "id": "cordless-bankruptcy",
        "outputId": "9abad296-0930-453e-eb77-622df59c1546",
        "colab": {
          "base_uri": "https://localhost:8080/",
          "height": 35
        }
      },
      "outputs": [
        {
          "output_type": "execute_result",
          "data": {
            "text/plain": [
              "'a small cube with 1 to 6 spots on the six faces; used in gambling to generate random numbers'"
            ],
            "application/vnd.google.colaboratory.intrinsic+json": {
              "type": "string"
            }
          },
          "metadata": {},
          "execution_count": 24
        }
      ],
      "source": [
        "lesk(doc, 'die').definition()"
      ]
    },
    {
      "cell_type": "code",
      "execution_count": 25,
      "id": "excess-consultancy",
      "metadata": {
        "id": "excess-consultancy",
        "outputId": "8f46522f-6f7b-414c-8b25-ab8c4fcd7780",
        "colab": {
          "base_uri": "https://localhost:8080/",
          "height": 53
        }
      },
      "outputs": [
        {
          "output_type": "execute_result",
          "data": {
            "text/plain": [
              "\"a widely used search engine that uses text-matching techniques to find web pages that are important and relevant to a user's search\""
            ],
            "application/vnd.google.colaboratory.intrinsic+json": {
              "type": "string"
            }
          },
          "metadata": {},
          "execution_count": 25
        }
      ],
      "source": [
        "lesk(nlp('I work at google.'), 'google').definition()"
      ]
    },
    {
      "cell_type": "code",
      "execution_count": 26,
      "id": "infectious-binary",
      "metadata": {
        "id": "infectious-binary",
        "outputId": "2abcc251-cbaa-44cd-9e8c-351288ad31b0",
        "colab": {
          "base_uri": "https://localhost:8080/",
          "height": 35
        }
      },
      "outputs": [
        {
          "output_type": "execute_result",
          "data": {
            "text/plain": [
              "'search the internet (for information) using the Google search engine'"
            ],
            "application/vnd.google.colaboratory.intrinsic+json": {
              "type": "string"
            }
          },
          "metadata": {},
          "execution_count": 26
        }
      ],
      "source": [
        "lesk(nlp('I will google it.'), 'google').definition()"
      ]
    },
    {
      "cell_type": "code",
      "execution_count": null,
      "id": "laughing-carolina",
      "metadata": {
        "id": "laughing-carolina"
      },
      "outputs": [],
      "source": []
    }
  ],
  "metadata": {
    "kernelspec": {
      "display_name": "Python 3",
      "language": "python",
      "name": "python3"
    },
    "language_info": {
      "codemirror_mode": {
        "name": "ipython",
        "version": 3
      },
      "file_extension": ".py",
      "mimetype": "text/x-python",
      "name": "python",
      "nbconvert_exporter": "python",
      "pygments_lexer": "ipython3",
      "version": "3.8.5"
    },
    "colab": {
      "provenance": []
    }
  },
  "nbformat": 4,
  "nbformat_minor": 5
}